{
 "cells": [
  {
   "cell_type": "code",
   "execution_count": null,
   "id": "eda9c1b2-4e9a-41ac-8da6-d4c98775f986",
   "metadata": {
    "executionCancelledAt": null,
    "executionTime": null,
    "lastExecutedAt": null,
    "lastExecutedByKernel": null,
    "lastScheduledRunId": null,
    "lastSuccessfullyExecutedCode": null,
    "outputsMetadata": {
     "0": {
      "height": 1,
      "tableState": {
       "customFilter": {
        "const": {
         "type": "boolean",
         "valid": true,
         "value": true
        },
        "id": "88965551-cc37-43b0-a89c-f6d96eded04c",
        "nodeType": "const"
       }
      },
      "type": "dataFrame"
     }
    }
   },
   "outputs": [
    {
     "data": {
      "application/com.datacamp.data-table.v2+json": {
       "table": {
        "data": {
         "city": [
          "city_103",
          "city_40",
          "city_21",
          "city_115",
          "city_162"
         ],
         "city_development_index": [
          0.92,
          0.776,
          0.624,
          0.789,
          0.767
         ],
         "company_size": [
          null,
          "50-99",
          null,
          null,
          "50-99"
         ],
         "company_type": [
          null,
          "Pvt Ltd",
          null,
          "Pvt Ltd",
          "Funded Startup"
         ],
         "education_level": [
          "Graduate",
          "Graduate",
          "Graduate",
          "Graduate",
          "Masters"
         ],
         "enrolled_university": [
          "no_enrollment",
          "no_enrollment",
          "Full time course",
          null,
          "no_enrollment"
         ],
         "experience": [
          ">20",
          "15",
          "5",
          "<1",
          ">20"
         ],
         "gender": [
          "Male",
          "Male",
          null,
          null,
          "Male"
         ],
         "index": [
          0,
          1,
          2,
          3,
          4
         ],
         "job_change": [
          1,
          0,
          0,
          1,
          0
         ],
         "last_new_job": [
          "1",
          ">4",
          "never",
          "never",
          "4"
         ],
         "major_discipline": [
          "STEM",
          "STEM",
          "STEM",
          "Business Degree",
          "STEM"
         ],
         "relevant_experience": [
          "Has relevant experience",
          "No relevant experience",
          "No relevant experience",
          "No relevant experience",
          "Has relevant experience"
         ],
         "student_id": [
          8949,
          29725,
          11561,
          33241,
          666
         ],
         "training_hours": [
          36,
          47,
          83,
          52,
          8
         ]
        },
        "schema": {
         "fields": [
          {
           "name": "index",
           "type": "integer"
          },
          {
           "name": "student_id",
           "type": "integer"
          },
          {
           "name": "city",
           "type": "string"
          },
          {
           "name": "city_development_index",
           "type": "number"
          },
          {
           "name": "gender",
           "type": "string"
          },
          {
           "name": "relevant_experience",
           "type": "string"
          },
          {
           "name": "enrolled_university",
           "type": "string"
          },
          {
           "name": "education_level",
           "type": "string"
          },
          {
           "name": "major_discipline",
           "type": "string"
          },
          {
           "name": "experience",
           "type": "string"
          },
          {
           "name": "company_size",
           "type": "string"
          },
          {
           "name": "company_type",
           "type": "string"
          },
          {
           "name": "last_new_job",
           "type": "string"
          },
          {
           "name": "training_hours",
           "type": "integer"
          },
          {
           "name": "job_change",
           "type": "number"
          }
         ],
         "pandas_version": "1.4.0",
         "primaryKey": [
          "index"
         ]
        }
       },
       "total_rows": 5,
       "truncation_type": null
      },
      "text/html": [
       "<div>\n",
       "<style scoped>\n",
       "    .dataframe tbody tr th:only-of-type {\n",
       "        vertical-align: middle;\n",
       "    }\n",
       "\n",
       "    .dataframe tbody tr th {\n",
       "        vertical-align: top;\n",
       "    }\n",
       "\n",
       "    .dataframe thead th {\n",
       "        text-align: right;\n",
       "    }\n",
       "</style>\n",
       "<table border=\"1\" class=\"dataframe\">\n",
       "  <thead>\n",
       "    <tr style=\"text-align: right;\">\n",
       "      <th></th>\n",
       "      <th>student_id</th>\n",
       "      <th>city</th>\n",
       "      <th>city_development_index</th>\n",
       "      <th>gender</th>\n",
       "      <th>relevant_experience</th>\n",
       "      <th>enrolled_university</th>\n",
       "      <th>education_level</th>\n",
       "      <th>major_discipline</th>\n",
       "      <th>experience</th>\n",
       "      <th>company_size</th>\n",
       "      <th>company_type</th>\n",
       "      <th>last_new_job</th>\n",
       "      <th>training_hours</th>\n",
       "      <th>job_change</th>\n",
       "    </tr>\n",
       "  </thead>\n",
       "  <tbody>\n",
       "    <tr>\n",
       "      <th>0</th>\n",
       "      <td>8949</td>\n",
       "      <td>city_103</td>\n",
       "      <td>0.920</td>\n",
       "      <td>Male</td>\n",
       "      <td>Has relevant experience</td>\n",
       "      <td>no_enrollment</td>\n",
       "      <td>Graduate</td>\n",
       "      <td>STEM</td>\n",
       "      <td>&gt;20</td>\n",
       "      <td>NaN</td>\n",
       "      <td>NaN</td>\n",
       "      <td>1</td>\n",
       "      <td>36</td>\n",
       "      <td>1.0</td>\n",
       "    </tr>\n",
       "    <tr>\n",
       "      <th>1</th>\n",
       "      <td>29725</td>\n",
       "      <td>city_40</td>\n",
       "      <td>0.776</td>\n",
       "      <td>Male</td>\n",
       "      <td>No relevant experience</td>\n",
       "      <td>no_enrollment</td>\n",
       "      <td>Graduate</td>\n",
       "      <td>STEM</td>\n",
       "      <td>15</td>\n",
       "      <td>50-99</td>\n",
       "      <td>Pvt Ltd</td>\n",
       "      <td>&gt;4</td>\n",
       "      <td>47</td>\n",
       "      <td>0.0</td>\n",
       "    </tr>\n",
       "    <tr>\n",
       "      <th>2</th>\n",
       "      <td>11561</td>\n",
       "      <td>city_21</td>\n",
       "      <td>0.624</td>\n",
       "      <td>NaN</td>\n",
       "      <td>No relevant experience</td>\n",
       "      <td>Full time course</td>\n",
       "      <td>Graduate</td>\n",
       "      <td>STEM</td>\n",
       "      <td>5</td>\n",
       "      <td>NaN</td>\n",
       "      <td>NaN</td>\n",
       "      <td>never</td>\n",
       "      <td>83</td>\n",
       "      <td>0.0</td>\n",
       "    </tr>\n",
       "    <tr>\n",
       "      <th>3</th>\n",
       "      <td>33241</td>\n",
       "      <td>city_115</td>\n",
       "      <td>0.789</td>\n",
       "      <td>NaN</td>\n",
       "      <td>No relevant experience</td>\n",
       "      <td>NaN</td>\n",
       "      <td>Graduate</td>\n",
       "      <td>Business Degree</td>\n",
       "      <td>&lt;1</td>\n",
       "      <td>NaN</td>\n",
       "      <td>Pvt Ltd</td>\n",
       "      <td>never</td>\n",
       "      <td>52</td>\n",
       "      <td>1.0</td>\n",
       "    </tr>\n",
       "    <tr>\n",
       "      <th>4</th>\n",
       "      <td>666</td>\n",
       "      <td>city_162</td>\n",
       "      <td>0.767</td>\n",
       "      <td>Male</td>\n",
       "      <td>Has relevant experience</td>\n",
       "      <td>no_enrollment</td>\n",
       "      <td>Masters</td>\n",
       "      <td>STEM</td>\n",
       "      <td>&gt;20</td>\n",
       "      <td>50-99</td>\n",
       "      <td>Funded Startup</td>\n",
       "      <td>4</td>\n",
       "      <td>8</td>\n",
       "      <td>0.0</td>\n",
       "    </tr>\n",
       "  </tbody>\n",
       "</table>\n",
       "</div>"
      ],
      "text/plain": [
       "   student_id      city  ...  training_hours job_change\n",
       "0        8949  city_103  ...              36        1.0\n",
       "1       29725   city_40  ...              47        0.0\n",
       "2       11561   city_21  ...              83        0.0\n",
       "3       33241  city_115  ...              52        1.0\n",
       "4         666  city_162  ...               8        0.0\n",
       "\n",
       "[5 rows x 14 columns]"
      ]
     },
     "execution_count": 1,
     "metadata": {
      "application/com.datacamp.data-table.v2+json": {
       "status": "success"
      }
     },
     "output_type": "execute_result"
    }
   ],
   "source": [
    "# Import necessary libraries\n",
    "import pandas as pd\n",
    "\n",
    "# Load the dataset\n",
    "ds_jobs = pd.read_csv(\"DataPrep.csv\")\n",
    "\n",
    "# View the dataset\n",
    "ds_jobs.head()"
   ]
  },
  {
   "cell_type": "code",
   "execution_count": 2,
   "id": "13757e62-aca2-48f4-b569-a838af11bdd5",
   "metadata": {
    "executionCancelledAt": null,
    "executionTime": 43,
    "lastExecutedAt": 1744557863307,
    "lastExecutedByKernel": "83a4ab28-dc51-496e-8cbb-d2f95116dcaa",
    "lastScheduledRunId": null,
    "lastSuccessfullyExecutedCode": "# Create a copy of ds_jobs for transforming\nds_jobs_transformed = ds_jobs.copy()\n# Start coding here. Use as many cells as you like!\nds_jobs_transformed.dtypes",
    "outputsMetadata": {
     "0": {
      "height": 500,
      "tableState": {},
      "type": "dataFrame"
     }
    }
   },
   "outputs": [
    {
     "data": {
      "text/plain": [
       "student_id                  int64\n",
       "city                       object\n",
       "city_development_index    float64\n",
       "gender                     object\n",
       "relevant_experience        object\n",
       "enrolled_university        object\n",
       "education_level            object\n",
       "major_discipline           object\n",
       "experience                 object\n",
       "company_size               object\n",
       "company_type               object\n",
       "last_new_job               object\n",
       "training_hours              int64\n",
       "job_change                float64\n",
       "dtype: object"
      ]
     },
     "execution_count": 2,
     "metadata": {
      "application/com.datacamp.data-table.v1+json": {
       "error": "Maximum recursion level reached",
       "status": "error"
      },
      "application/com.datacamp.data-table.v2+json": {
       "error": "Maximum recursion level reached",
       "status": "error"
      }
     },
     "output_type": "execute_result"
    }
   ],
   "source": [
    "# Create a copy of ds_jobs for transforming\n",
    "ds_jobs_transformed = ds_jobs.copy()\n",
    "# Start coding here. Use as many cells as you like!\n",
    "ds_jobs_transformed.dtypes"
   ]
  },
  {
   "cell_type": "markdown",
   "id": "16655d0c-4ced-4585-98be-b5a4b3d985e4",
   "metadata": {},
   "source": [
    "Changing indicators to boolean"
   ]
  },
  {
   "cell_type": "code",
   "execution_count": 3,
   "id": "37af7252-400d-4c06-aff3-44215a0c4961",
   "metadata": {
    "executionCancelledAt": null,
    "executionTime": 51,
    "lastExecutedAt": 1744557863358,
    "lastExecutedByKernel": "83a4ab28-dc51-496e-8cbb-d2f95116dcaa",
    "lastScheduledRunId": null,
    "lastSuccessfullyExecutedCode": "ds_jobs_transformed[['relevant_experience', 'job_change']].value_counts(dropna = False)\nds_jobs_transformed['job_change'] = ds_jobs_transformed['job_change'].astype(bool)\nds_jobs_transformed['relevant_experience'] = ds_jobs_transformed['relevant_experience'] == 'Has relevant experience'\nds_jobs_transformed[['relevant_experience', 'job_change']].value_counts(dropna = False)\nds_jobs_transformed.info()",
    "outputsMetadata": {
     "0": {
      "height": 458,
      "type": "stream"
     }
    }
   },
   "outputs": [
    {
     "name": "stdout",
     "output_type": "stream",
     "text": [
      "<class 'pandas.core.frame.DataFrame'>\n",
      "RangeIndex: 19158 entries, 0 to 19157\n",
      "Data columns (total 14 columns):\n",
      " #   Column                  Non-Null Count  Dtype  \n",
      "---  ------                  --------------  -----  \n",
      " 0   student_id              19158 non-null  int64  \n",
      " 1   city                    19158 non-null  object \n",
      " 2   city_development_index  19158 non-null  float64\n",
      " 3   gender                  14650 non-null  object \n",
      " 4   relevant_experience     19158 non-null  bool   \n",
      " 5   enrolled_university     18772 non-null  object \n",
      " 6   education_level         18698 non-null  object \n",
      " 7   major_discipline        16345 non-null  object \n",
      " 8   experience              19093 non-null  object \n",
      " 9   company_size            13220 non-null  object \n",
      " 10  company_type            13018 non-null  object \n",
      " 11  last_new_job            18735 non-null  object \n",
      " 12  training_hours          19158 non-null  int64  \n",
      " 13  job_change              19158 non-null  bool   \n",
      "dtypes: bool(2), float64(1), int64(2), object(9)\n",
      "memory usage: 1.8+ MB\n"
     ]
    }
   ],
   "source": [
    "ds_jobs_transformed[['relevant_experience', 'job_change']].value_counts(dropna = False)\n",
    "ds_jobs_transformed['job_change'] = ds_jobs_transformed['job_change'].astype(bool)\n",
    "ds_jobs_transformed['relevant_experience'] = ds_jobs_transformed['relevant_experience'] == 'Has relevant experience'\n",
    "ds_jobs_transformed[['relevant_experience', 'job_change']].value_counts(dropna = False)\n",
    "ds_jobs_transformed.info()"
   ]
  },
  {
   "cell_type": "markdown",
   "id": "cf026c7b-61b7-449c-bc77-6b37a00f0ed7",
   "metadata": {},
   "source": [
    "changing integers to int32"
   ]
  },
  {
   "cell_type": "code",
   "execution_count": 4,
   "id": "12f29fe9-2df8-4310-9367-78b35fa6aff0",
   "metadata": {
    "executionCancelledAt": null,
    "executionTime": 48,
    "lastExecutedAt": 1744557863406,
    "lastExecutedByKernel": "83a4ab28-dc51-496e-8cbb-d2f95116dcaa",
    "lastScheduledRunId": null,
    "lastSuccessfullyExecutedCode": "ds_jobs_transformed['student_id'] = ds_jobs_transformed['student_id'].astype('int32')\nds_jobs_transformed['training_hours'] = ds_jobs_transformed['training_hours'].astype('int32')\nds_jobs_transformed.dtypes\nds_jobs_transformed.info()",
    "outputsMetadata": {
     "0": {
      "height": 458,
      "type": "stream"
     }
    }
   },
   "outputs": [
    {
     "name": "stdout",
     "output_type": "stream",
     "text": [
      "<class 'pandas.core.frame.DataFrame'>\n",
      "RangeIndex: 19158 entries, 0 to 19157\n",
      "Data columns (total 14 columns):\n",
      " #   Column                  Non-Null Count  Dtype  \n",
      "---  ------                  --------------  -----  \n",
      " 0   student_id              19158 non-null  int32  \n",
      " 1   city                    19158 non-null  object \n",
      " 2   city_development_index  19158 non-null  float64\n",
      " 3   gender                  14650 non-null  object \n",
      " 4   relevant_experience     19158 non-null  bool   \n",
      " 5   enrolled_university     18772 non-null  object \n",
      " 6   education_level         18698 non-null  object \n",
      " 7   major_discipline        16345 non-null  object \n",
      " 8   experience              19093 non-null  object \n",
      " 9   company_size            13220 non-null  object \n",
      " 10  company_type            13018 non-null  object \n",
      " 11  last_new_job            18735 non-null  object \n",
      " 12  training_hours          19158 non-null  int32  \n",
      " 13  job_change              19158 non-null  bool   \n",
      "dtypes: bool(2), float64(1), int32(2), object(9)\n",
      "memory usage: 1.6+ MB\n"
     ]
    }
   ],
   "source": [
    "ds_jobs_transformed['student_id'] = ds_jobs_transformed['student_id'].astype('int32')\n",
    "ds_jobs_transformed['training_hours'] = ds_jobs_transformed['training_hours'].astype('int32')\n",
    "ds_jobs_transformed.dtypes\n",
    "ds_jobs_transformed.info()"
   ]
  },
  {
   "cell_type": "markdown",
   "id": "a85402bd-6cf6-4b00-868b-e00330818c9a",
   "metadata": {},
   "source": [
    "changing float to float16"
   ]
  },
  {
   "cell_type": "code",
   "execution_count": 5,
   "id": "ea3b94a4-db4a-4150-97dc-0f62ebc3121f",
   "metadata": {
    "executionCancelledAt": null,
    "executionTime": 48,
    "lastExecutedAt": 1744557863454,
    "lastExecutedByKernel": "83a4ab28-dc51-496e-8cbb-d2f95116dcaa",
    "lastScheduledRunId": null,
    "lastSuccessfullyExecutedCode": "ds_jobs_transformed['city_development_index'] = ds_jobs_transformed['city_development_index'].astype('float16')\nds_jobs_transformed.dtypes\nds_jobs_transformed.info()",
    "outputsMetadata": {
     "0": {
      "height": 458,
      "type": "stream"
     }
    }
   },
   "outputs": [
    {
     "name": "stdout",
     "output_type": "stream",
     "text": [
      "<class 'pandas.core.frame.DataFrame'>\n",
      "RangeIndex: 19158 entries, 0 to 19157\n",
      "Data columns (total 14 columns):\n",
      " #   Column                  Non-Null Count  Dtype  \n",
      "---  ------                  --------------  -----  \n",
      " 0   student_id              19158 non-null  int32  \n",
      " 1   city                    19158 non-null  object \n",
      " 2   city_development_index  19158 non-null  float16\n",
      " 3   gender                  14650 non-null  object \n",
      " 4   relevant_experience     19158 non-null  bool   \n",
      " 5   enrolled_university     18772 non-null  object \n",
      " 6   education_level         18698 non-null  object \n",
      " 7   major_discipline        16345 non-null  object \n",
      " 8   experience              19093 non-null  object \n",
      " 9   company_size            13220 non-null  object \n",
      " 10  company_type            13018 non-null  object \n",
      " 11  last_new_job            18735 non-null  object \n",
      " 12  training_hours          19158 non-null  int32  \n",
      " 13  job_change              19158 non-null  bool   \n",
      "dtypes: bool(2), float16(1), int32(2), object(9)\n",
      "memory usage: 1.5+ MB\n"
     ]
    }
   ],
   "source": [
    "ds_jobs_transformed['city_development_index'] = ds_jobs_transformed['city_development_index'].astype('float16')\n",
    "ds_jobs_transformed.dtypes\n",
    "ds_jobs_transformed.info()"
   ]
  },
  {
   "cell_type": "code",
   "execution_count": 5,
   "id": "0398e54d-2073-4e4e-a6a5-c9f12092e491",
   "metadata": {
    "executionCancelledAt": null,
    "executionTime": 48,
    "lastExecutedAt": 1744557863502,
    "lastExecutedByKernel": "83a4ab28-dc51-496e-8cbb-d2f95116dcaa",
    "lastScheduledRunId": null,
    "lastSuccessfullyExecutedCode": ""
   },
   "outputs": [],
   "source": []
  },
  {
   "cell_type": "markdown",
   "id": "b87c3dec-b275-4498-8455-c56d3e0f08b4",
   "metadata": {},
   "source": [
    "changing nomial categorical variables. city, gender, major_discipline, company_type"
   ]
  },
  {
   "cell_type": "code",
   "execution_count": 6,
   "id": "e160c832-edb5-4585-94e7-22d2e6fd782e",
   "metadata": {
    "executionCancelledAt": null,
    "executionTime": 51,
    "lastExecutedAt": 1744557863553,
    "lastExecutedByKernel": "83a4ab28-dc51-496e-8cbb-d2f95116dcaa",
    "lastScheduledRunId": null,
    "lastSuccessfullyExecutedCode": "ds_jobs_transformed['gender'] = ds_jobs_transformed['gender'].astype('category')\nds_jobs_transformed['city'] =ds_jobs_transformed['city'].astype('category')\nds_jobs_transformed['major_discipline'] = ds_jobs_transformed['major_discipline'].astype('category')\nds_jobs_transformed['company_type'] =ds_jobs_transformed['company_type'].astype('category')\nds_jobs_transformed.dtypes\nds_jobs_transformed.info()",
    "outputsMetadata": {
     "0": {
      "height": 458,
      "type": "stream"
     }
    }
   },
   "outputs": [
    {
     "name": "stdout",
     "output_type": "stream",
     "text": [
      "<class 'pandas.core.frame.DataFrame'>\n",
      "RangeIndex: 19158 entries, 0 to 19157\n",
      "Data columns (total 14 columns):\n",
      " #   Column                  Non-Null Count  Dtype   \n",
      "---  ------                  --------------  -----   \n",
      " 0   student_id              19158 non-null  int32   \n",
      " 1   city                    19158 non-null  category\n",
      " 2   city_development_index  19158 non-null  float16 \n",
      " 3   gender                  14650 non-null  category\n",
      " 4   relevant_experience     19158 non-null  bool    \n",
      " 5   enrolled_university     18772 non-null  object  \n",
      " 6   education_level         18698 non-null  object  \n",
      " 7   major_discipline        16345 non-null  category\n",
      " 8   experience              19093 non-null  object  \n",
      " 9   company_size            13220 non-null  object  \n",
      " 10  company_type            13018 non-null  category\n",
      " 11  last_new_job            18735 non-null  object  \n",
      " 12  training_hours          19158 non-null  int32   \n",
      " 13  job_change              19158 non-null  bool    \n",
      "dtypes: bool(2), category(4), float16(1), int32(2), object(5)\n",
      "memory usage: 1.0+ MB\n"
     ]
    }
   ],
   "source": [
    "ds_jobs_transformed['gender'] = ds_jobs_transformed['gender'].astype('category')\n",
    "ds_jobs_transformed['city'] =ds_jobs_transformed['city'].astype('category')\n",
    "ds_jobs_transformed['major_discipline'] = ds_jobs_transformed['major_discipline'].astype('category')\n",
    "ds_jobs_transformed['company_type'] =ds_jobs_transformed['company_type'].astype('category')\n",
    "ds_jobs_transformed.dtypes\n",
    "ds_jobs_transformed.info()"
   ]
  },
  {
   "cell_type": "markdown",
   "id": "86d3b300-d4f8-4a14-93eb-3b63b62f6773",
   "metadata": {},
   "source": [
    "Changing variables to ordinal categorical variables. education_level, experience, company_size, last_new_job, enrolled_university"
   ]
  },
  {
   "cell_type": "code",
   "execution_count": 7,
   "id": "c80373d0-da58-4766-9bae-070acafefa37",
   "metadata": {
    "executionCancelledAt": null,
    "executionTime": 52,
    "lastExecutedAt": 1744557863606,
    "lastExecutedByKernel": "83a4ab28-dc51-496e-8cbb-d2f95116dcaa",
    "lastScheduledRunId": null,
    "lastSuccessfullyExecutedCode": "ds_jobs_transformed['education_level']= ds_jobs_transformed['education_level'].astype('category')\nds_jobs_transformed['education_level'].cat.reorder_categories(new_categories = ['Primary School', 'High School', 'Graduate', 'Masters', 'Phd'], ordered = True, inplace=True)\nds_jobs_transformed['experience'] = ds_jobs_transformed['experience'].astype('category')\nds_jobs_transformed['experience'].cat.reorder_categories(new_categories = ['<1','1','2','3','4','5','6','7','8','9','10','11','12','13','14','15','16','17','18','19','20','>20'], ordered = True, inplace=True)\nds_jobs_transformed['company_size'] = ds_jobs_transformed['company_size'].astype('category')\nds_jobs_transformed['company_size'].cat.reorder_categories(new_categories = ['<10','10-49','50-99','100-499','500-999','1000-4999','5000-9999','10000+'], ordered=True, inplace=True)\nds_jobs_transformed['last_new_job'] = ds_jobs_transformed['last_new_job'].astype('category')\nds_jobs_transformed['last_new_job'].cat.reorder_categories(new_categories = ['never','1','2','3','4','>4'], ordered = True, inplace=True)\nds_jobs_transformed['enrolled_university'] =ds_jobs_transformed['enrolled_university'].astype('category')\nds_jobs_transformed['enrolled_university'].cat.reorder_categories(new_categories = ['no_enrollment', 'Part time course', 'Full time course'], ordered = True, inplace=True)\n\n#ds_jobs_transformed.info()",
    "outputsMetadata": {
     "0": {
      "height": 50,
      "tableState": {
       "customFilter": {
        "const": {
         "type": "boolean",
         "valid": true,
         "value": true
        },
        "id": "deb7abfa-76f4-434a-bc34-34b5e8f4807d",
        "nodeType": "const"
       }
      },
      "type": "dataFrame"
     }
    }
   },
   "outputs": [],
   "source": [
    "ds_jobs_transformed['education_level']= ds_jobs_transformed['education_level'].astype('category')\n",
    "ds_jobs_transformed['education_level'].cat.reorder_categories(new_categories = ['Primary School', 'High School', 'Graduate', 'Masters', 'Phd'], ordered = True, inplace=True)\n",
    "ds_jobs_transformed['experience'] = ds_jobs_transformed['experience'].astype('category')\n",
    "ds_jobs_transformed['experience'].cat.reorder_categories(new_categories = ['<1','1','2','3','4','5','6','7','8','9','10','11','12','13','14','15','16','17','18','19','20','>20'], ordered = True, inplace=True)\n",
    "ds_jobs_transformed['company_size'] = ds_jobs_transformed['company_size'].astype('category')\n",
    "ds_jobs_transformed['company_size'].cat.reorder_categories(new_categories = ['<10','10-49','50-99','100-499','500-999','1000-4999','5000-9999','10000+'], ordered=True, inplace=True)\n",
    "ds_jobs_transformed['last_new_job'] = ds_jobs_transformed['last_new_job'].astype('category')\n",
    "ds_jobs_transformed['last_new_job'].cat.reorder_categories(new_categories = ['never','1','2','3','4','>4'], ordered = True, inplace=True)\n",
    "ds_jobs_transformed['enrolled_university'] =ds_jobs_transformed['enrolled_university'].astype('category')\n",
    "ds_jobs_transformed['enrolled_university'].cat.reorder_categories(new_categories = ['no_enrollment', 'Part time course', 'Full time course'], ordered = True, inplace=True)\n",
    "\n",
    "#ds_jobs_transformed.info()"
   ]
  },
  {
   "cell_type": "markdown",
   "id": "ef7cc595-4a1c-46ac-9c03-5888be8206fa",
   "metadata": {},
   "source": [
    "filtering dataframe to contain students **with 10 or more years of experience** at **companies at least 1000 employees.**"
   ]
  },
  {
   "cell_type": "code",
   "execution_count": 8,
   "id": "eebaa209-917b-4527-a311-9ff4363d41ff",
   "metadata": {
    "executionCancelledAt": null,
    "executionTime": null,
    "lastExecutedAt": null,
    "lastExecutedByKernel": null,
    "lastScheduledRunId": null,
    "lastSuccessfullyExecutedCode": null,
    "outputsMetadata": {
     "0": {
      "height": 1,
      "tableState": {
       "customFilter": {
        "const": {
         "type": "boolean",
         "valid": true,
         "value": true
        },
        "id": "916507a4-f5d0-41e1-a9fa-801631e7dcdb",
        "nodeType": "const"
       }
      },
      "type": "dataFrame"
     }
    }
   },
   "outputs": [
    {
     "data": {
      "application/com.datacamp.data-table.v2+json": {
       "table": {
        "data": {
         "city": [
          "city_103",
          "city_61",
          "city_103",
          "city_16",
          "city_114"
         ],
         "city_development_index": [
          0.919921875,
          0.9130859375,
          0.919921875,
          0.91015625,
          0.92578125
         ],
         "company_size": [
          "10000+",
          "1000-4999",
          "5000-9999",
          "5000-9999",
          "1000-4999"
         ],
         "company_type": [
          "Pvt Ltd",
          "Pvt Ltd",
          "Pvt Ltd",
          "Pvt Ltd",
          "Public Sector"
         ],
         "education_level": [
          "Graduate",
          "Graduate",
          "Graduate",
          "Graduate",
          "Masters"
         ],
         "enrolled_university": [
          "no_enrollment",
          "no_enrollment",
          "Part time course",
          "no_enrollment",
          "Full time course"
         ],
         "experience": [
          "17",
          ">20",
          "19",
          "12",
          "16"
         ],
         "gender": [
          null,
          "Male",
          "Male",
          "Male",
          "Female"
         ],
         "index": [
          9,
          12,
          31,
          34,
          40
         ],
         "job_change": [
          false,
          false,
          false,
          false,
          false
         ],
         "last_new_job": [
          ">4",
          "3",
          ">4",
          "3",
          "2"
         ],
         "major_discipline": [
          "STEM",
          "STEM",
          "STEM",
          "Business Degree",
          "STEM"
         ],
         "relevant_experience": [
          true,
          true,
          true,
          true,
          true
         ],
         "student_id": [
          699,
          25619,
          22293,
          26494,
          2547
         ],
         "training_hours": [
          123,
          23,
          141,
          145,
          14
         ]
        },
        "schema": {
         "fields": [
          {
           "name": "index",
           "type": "integer"
          },
          {
           "name": "student_id",
           "type": "integer"
          },
          {
           "constraints": {
            "enum": [
             "city_1",
             "city_10",
             "city_100",
             "city_101",
             "city_102",
             "city_103",
             "city_104",
             "city_105",
             "city_106",
             "city_107",
             "city_109",
             "city_11",
             "city_111",
             "city_114",
             "city_115",
             "city_116",
             "city_117",
             "city_118",
             "city_12",
             "city_120",
             "city_121",
             "city_123",
             "city_126",
             "city_127",
             "city_128",
             "city_129",
             "city_13",
             "city_131",
             "city_133",
             "city_134",
             "city_136",
             "city_138",
             "city_139",
             "city_14",
             "city_140",
             "city_141",
             "city_142",
             "city_143",
             "city_144",
             "city_145",
             "city_146",
             "city_149",
             "city_150",
             "city_152",
             "city_155",
             "city_157",
             "city_158",
             "city_159",
             "city_16",
             "city_160",
             "city_162",
             "city_165",
             "city_166",
             "city_167",
             "city_171",
             "city_173",
             "city_175",
             "city_176",
             "city_179",
             "city_18",
             "city_180",
             "city_19",
             "city_2",
             "city_20",
             "city_21",
             "city_23",
             "city_24",
             "city_25",
             "city_26",
             "city_27",
             "city_28",
             "city_30",
             "city_31",
             "city_33",
             "city_36",
             "city_37",
             "city_39",
             "city_40",
             "city_41",
             "city_42",
             "city_43",
             "city_44",
             "city_45",
             "city_46",
             "city_48",
             "city_50",
             "city_53",
             "city_54",
             "city_55",
             "city_57",
             "city_59",
             "city_61",
             "city_62",
             "city_64",
             "city_65",
             "city_67",
             "city_69",
             "city_7",
             "city_70",
             "city_71",
             "city_72",
             "city_73",
             "city_74",
             "city_75",
             "city_76",
             "city_77",
             "city_78",
             "city_79",
             "city_8",
             "city_80",
             "city_81",
             "city_82",
             "city_83",
             "city_84",
             "city_89",
             "city_9",
             "city_90",
             "city_91",
             "city_93",
             "city_94",
             "city_97",
             "city_98",
             "city_99"
            ]
           },
           "name": "city",
           "ordered": false,
           "type": "any"
          },
          {
           "name": "city_development_index",
           "type": "number"
          },
          {
           "constraints": {
            "enum": [
             "Female",
             "Male",
             "Other"
            ]
           },
           "name": "gender",
           "ordered": false,
           "type": "any"
          },
          {
           "name": "relevant_experience",
           "type": "boolean"
          },
          {
           "constraints": {
            "enum": [
             "no_enrollment",
             "Part time course",
             "Full time course"
            ]
           },
           "name": "enrolled_university",
           "ordered": true,
           "type": "any"
          },
          {
           "constraints": {
            "enum": [
             "Primary School",
             "High School",
             "Graduate",
             "Masters",
             "Phd"
            ]
           },
           "name": "education_level",
           "ordered": true,
           "type": "any"
          },
          {
           "constraints": {
            "enum": [
             "Arts",
             "Business Degree",
             "Humanities",
             "No Major",
             "Other",
             "STEM"
            ]
           },
           "name": "major_discipline",
           "ordered": false,
           "type": "any"
          },
          {
           "constraints": {
            "enum": [
             "<1",
             "1",
             "2",
             "3",
             "4",
             "5",
             "6",
             "7",
             "8",
             "9",
             "10",
             "11",
             "12",
             "13",
             "14",
             "15",
             "16",
             "17",
             "18",
             "19",
             "20",
             ">20"
            ]
           },
           "name": "experience",
           "ordered": true,
           "type": "any"
          },
          {
           "constraints": {
            "enum": [
             "<10",
             "10-49",
             "50-99",
             "100-499",
             "500-999",
             "1000-4999",
             "5000-9999",
             "10000+"
            ]
           },
           "name": "company_size",
           "ordered": true,
           "type": "any"
          },
          {
           "constraints": {
            "enum": [
             "Early Stage Startup",
             "Funded Startup",
             "NGO",
             "Other",
             "Public Sector",
             "Pvt Ltd"
            ]
           },
           "name": "company_type",
           "ordered": false,
           "type": "any"
          },
          {
           "constraints": {
            "enum": [
             "never",
             "1",
             "2",
             "3",
             "4",
             ">4"
            ]
           },
           "name": "last_new_job",
           "ordered": true,
           "type": "any"
          },
          {
           "name": "training_hours",
           "type": "integer"
          },
          {
           "name": "job_change",
           "type": "boolean"
          }
         ],
         "pandas_version": "1.4.0",
         "primaryKey": [
          "index"
         ]
        }
       },
       "total_rows": 5,
       "truncation_type": null
      },
      "text/html": [
       "<div>\n",
       "<style scoped>\n",
       "    .dataframe tbody tr th:only-of-type {\n",
       "        vertical-align: middle;\n",
       "    }\n",
       "\n",
       "    .dataframe tbody tr th {\n",
       "        vertical-align: top;\n",
       "    }\n",
       "\n",
       "    .dataframe thead th {\n",
       "        text-align: right;\n",
       "    }\n",
       "</style>\n",
       "<table border=\"1\" class=\"dataframe\">\n",
       "  <thead>\n",
       "    <tr style=\"text-align: right;\">\n",
       "      <th></th>\n",
       "      <th>student_id</th>\n",
       "      <th>city</th>\n",
       "      <th>city_development_index</th>\n",
       "      <th>gender</th>\n",
       "      <th>relevant_experience</th>\n",
       "      <th>enrolled_university</th>\n",
       "      <th>education_level</th>\n",
       "      <th>major_discipline</th>\n",
       "      <th>experience</th>\n",
       "      <th>company_size</th>\n",
       "      <th>company_type</th>\n",
       "      <th>last_new_job</th>\n",
       "      <th>training_hours</th>\n",
       "      <th>job_change</th>\n",
       "    </tr>\n",
       "  </thead>\n",
       "  <tbody>\n",
       "    <tr>\n",
       "      <th>9</th>\n",
       "      <td>699</td>\n",
       "      <td>city_103</td>\n",
       "      <td>0.919922</td>\n",
       "      <td>NaN</td>\n",
       "      <td>True</td>\n",
       "      <td>no_enrollment</td>\n",
       "      <td>Graduate</td>\n",
       "      <td>STEM</td>\n",
       "      <td>17</td>\n",
       "      <td>10000+</td>\n",
       "      <td>Pvt Ltd</td>\n",
       "      <td>&gt;4</td>\n",
       "      <td>123</td>\n",
       "      <td>False</td>\n",
       "    </tr>\n",
       "    <tr>\n",
       "      <th>12</th>\n",
       "      <td>25619</td>\n",
       "      <td>city_61</td>\n",
       "      <td>0.913086</td>\n",
       "      <td>Male</td>\n",
       "      <td>True</td>\n",
       "      <td>no_enrollment</td>\n",
       "      <td>Graduate</td>\n",
       "      <td>STEM</td>\n",
       "      <td>&gt;20</td>\n",
       "      <td>1000-4999</td>\n",
       "      <td>Pvt Ltd</td>\n",
       "      <td>3</td>\n",
       "      <td>23</td>\n",
       "      <td>False</td>\n",
       "    </tr>\n",
       "    <tr>\n",
       "      <th>31</th>\n",
       "      <td>22293</td>\n",
       "      <td>city_103</td>\n",
       "      <td>0.919922</td>\n",
       "      <td>Male</td>\n",
       "      <td>True</td>\n",
       "      <td>Part time course</td>\n",
       "      <td>Graduate</td>\n",
       "      <td>STEM</td>\n",
       "      <td>19</td>\n",
       "      <td>5000-9999</td>\n",
       "      <td>Pvt Ltd</td>\n",
       "      <td>&gt;4</td>\n",
       "      <td>141</td>\n",
       "      <td>False</td>\n",
       "    </tr>\n",
       "    <tr>\n",
       "      <th>34</th>\n",
       "      <td>26494</td>\n",
       "      <td>city_16</td>\n",
       "      <td>0.910156</td>\n",
       "      <td>Male</td>\n",
       "      <td>True</td>\n",
       "      <td>no_enrollment</td>\n",
       "      <td>Graduate</td>\n",
       "      <td>Business Degree</td>\n",
       "      <td>12</td>\n",
       "      <td>5000-9999</td>\n",
       "      <td>Pvt Ltd</td>\n",
       "      <td>3</td>\n",
       "      <td>145</td>\n",
       "      <td>False</td>\n",
       "    </tr>\n",
       "    <tr>\n",
       "      <th>40</th>\n",
       "      <td>2547</td>\n",
       "      <td>city_114</td>\n",
       "      <td>0.925781</td>\n",
       "      <td>Female</td>\n",
       "      <td>True</td>\n",
       "      <td>Full time course</td>\n",
       "      <td>Masters</td>\n",
       "      <td>STEM</td>\n",
       "      <td>16</td>\n",
       "      <td>1000-4999</td>\n",
       "      <td>Public Sector</td>\n",
       "      <td>2</td>\n",
       "      <td>14</td>\n",
       "      <td>False</td>\n",
       "    </tr>\n",
       "  </tbody>\n",
       "</table>\n",
       "</div>"
      ],
      "text/plain": [
       "    student_id      city  ...  training_hours job_change\n",
       "9          699  city_103  ...             123      False\n",
       "12       25619   city_61  ...              23      False\n",
       "31       22293  city_103  ...             141      False\n",
       "34       26494   city_16  ...             145      False\n",
       "40        2547  city_114  ...              14      False\n",
       "\n",
       "[5 rows x 14 columns]"
      ]
     },
     "execution_count": 8,
     "metadata": {
      "application/com.datacamp.data-table.v2+json": {
       "status": "success"
      }
     },
     "output_type": "execute_result"
    }
   ],
   "source": [
    "ds_jobs_transformed = ds_jobs_transformed[(ds_jobs_transformed['experience'] >= \"10\") & (ds_jobs_transformed['company_size'] >= '1000-4999')]\n",
    "ds_jobs_transformed.head()"
   ]
  }
 ],
 "metadata": {
  "editor": "DataLab",
  "kernelspec": {
   "display_name": "base",
   "language": "python",
   "name": "python3"
  },
  "language_info": {
   "codemirror_mode": {
    "name": "ipython",
    "version": 3
   },
   "file_extension": ".py",
   "mimetype": "text/x-python",
   "name": "python",
   "nbconvert_exporter": "python",
   "pygments_lexer": "ipython3",
   "version": "3.12.2"
  }
 },
 "nbformat": 4,
 "nbformat_minor": 5
}
